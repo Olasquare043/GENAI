{
 "cells": [
  {
   "cell_type": "code",
   "execution_count": 1,
   "id": "83191217",
   "metadata": {},
   "outputs": [],
   "source": [
    "import pandas as pd"
   ]
  },
  {
   "cell_type": "markdown",
   "id": "94c2fe1a",
   "metadata": {},
   "source": [
    "## Hands on practice"
   ]
  },
  {
   "cell_type": "markdown",
   "id": "574112ab",
   "metadata": {},
   "source": [
    "#### 1. Create a bucket list of 6 items. Convert the list to pandas series and define index for it using alphabets."
   ]
  },
  {
   "cell_type": "code",
   "execution_count": 16,
   "id": "f367e54a",
   "metadata": {},
   "outputs": [
    {
     "data": {
      "text/plain": [
       "a    listening to music\n",
       "b                Eating\n",
       "c          Playing game\n",
       "d                Coding\n",
       "e              Sleeping\n",
       "dtype: object"
      ]
     },
     "execution_count": 16,
     "metadata": {},
     "output_type": "execute_result"
    }
   ],
   "source": [
    "bucket_list=[\"listening to music\", \"Eating\", \"Playing game\",\"Coding\",\"Sleeping\"]\n",
    "my_bucket_list= pd.Series(bucket_list,index=['a','b','c','d','e'])\n",
    "my_bucket_list.head(6)"
   ]
  },
  {
   "cell_type": "code",
   "execution_count": 15,
   "id": "6bb87936",
   "metadata": {},
   "outputs": [
    {
     "data": {
      "text/plain": [
       "a    5\n",
       "b    6\n",
       "c    3\n",
       "d    8\n",
       "e    9\n",
       "dtype: int64"
      ]
     },
     "execution_count": 15,
     "metadata": {},
     "output_type": "execute_result"
    }
   ],
   "source": [
    "bucket_list=[5,6,3,8,9]\n",
    "my_bucket_list= pd.Series(bucket_list,index=['a','b','c','d','e'])\n",
    "my_bucket_list.head(6)"
   ]
  },
  {
   "cell_type": "markdown",
   "id": "28b25ee8",
   "metadata": {},
   "source": [
    "### 2. Create a simple python dictionary of your biodata with 5 keys and their corresponding values. Convert the dictionary into a pandas series."
   ]
  },
  {
   "cell_type": "code",
   "execution_count": 22,
   "id": "36950ce3",
   "metadata": {},
   "outputs": [
    {
     "data": {
      "text/html": [
       "<div>\n",
       "<style scoped>\n",
       "    .dataframe tbody tr th:only-of-type {\n",
       "        vertical-align: middle;\n",
       "    }\n",
       "\n",
       "    .dataframe tbody tr th {\n",
       "        vertical-align: top;\n",
       "    }\n",
       "\n",
       "    .dataframe thead th {\n",
       "        text-align: right;\n",
       "    }\n",
       "</style>\n",
       "<table border=\"1\" class=\"dataframe\">\n",
       "  <thead>\n",
       "    <tr style=\"text-align: right;\">\n",
       "      <th></th>\n",
       "      <th>0</th>\n",
       "    </tr>\n",
       "  </thead>\n",
       "  <tbody>\n",
       "    <tr>\n",
       "      <th>name</th>\n",
       "      <td>Olayinka Olayemi</td>\n",
       "    </tr>\n",
       "    <tr>\n",
       "      <th>Age</th>\n",
       "      <td>27</td>\n",
       "    </tr>\n",
       "    <tr>\n",
       "      <th>Gender</th>\n",
       "      <td>male</td>\n",
       "    </tr>\n",
       "    <tr>\n",
       "      <th>phone</th>\n",
       "      <td>07030796165</td>\n",
       "    </tr>\n",
       "    <tr>\n",
       "      <th>Email</th>\n",
       "      <td>olasquareconsults@gmail.com</td>\n",
       "    </tr>\n",
       "  </tbody>\n",
       "</table>\n",
       "</div>"
      ],
      "text/plain": [
       "                                  0\n",
       "name               Olayinka Olayemi\n",
       "Age                              27\n",
       "Gender                         male\n",
       "phone                   07030796165\n",
       "Email   olasquareconsults@gmail.com"
      ]
     },
     "execution_count": 22,
     "metadata": {},
     "output_type": "execute_result"
    }
   ],
   "source": [
    "biodata={\"\"\n",
    "\"name\":\"Olayinka Olayemi\",\n",
    "\"Age\": 27,\n",
    "\"Gender\": \"male\",\n",
    "\"phone\":\"07030796165\",\n",
    "\"Email\":\"olasquareconsults@gmail.com\"\n",
    "}\n",
    "my_biodata= pd.Series(biodata)\n",
    "my_biodata.head(5)\n",
    "my_biodataDF= pd.DataFrame(my_biodata)\n",
    "my_biodataDF.head()"
   ]
  },
  {
   "cell_type": "markdown",
   "id": "7e6f5239",
   "metadata": {},
   "source": []
  }
 ],
 "metadata": {
  "kernelspec": {
   "display_name": ".venv",
   "language": "python",
   "name": "python3"
  },
  "language_info": {
   "codemirror_mode": {
    "name": "ipython",
    "version": 3
   },
   "file_extension": ".py",
   "mimetype": "text/x-python",
   "name": "python",
   "nbconvert_exporter": "python",
   "pygments_lexer": "ipython3",
   "version": "3.13.7"
  }
 },
 "nbformat": 4,
 "nbformat_minor": 5
}
