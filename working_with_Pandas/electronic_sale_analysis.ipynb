{
 "cells": [
  {
   "cell_type": "markdown",
   "id": "8c0d751d",
   "metadata": {},
   "source": [
    "## Importing libraries"
   ]
  },
  {
   "cell_type": "code",
   "execution_count": null,
   "id": "19ef81f8",
   "metadata": {},
   "outputs": [],
   "source": [
    "import pandas as pd\n",
    "import matplotlib as plt\n",
    "import warnings\n",
    "warnings.filterwarnings('ignore')\n",
    "\n",
    "# setting view\n",
    "pd.set_option('display.max_column',None)\n",
    "pd.set_option('display.width',1000)\n"
   ]
  },
  {
   "cell_type": "code",
   "execution_count": null,
   "id": "3ff91ba2",
   "metadata": {},
   "outputs": [],
   "source": [
    "# loading the data\n",
    "path=\"../Dataset/eletronic_sales.xlsx\"\n",
    "sale_data= pd.read_excel(path)"
   ]
  },
  {
   "cell_type": "code",
   "execution_count": null,
   "id": "765d5559",
   "metadata": {},
   "outputs": [],
   "source": [
    "# getting snap shot of the data\n",
    "print(sale_data.head())\n",
    "print(\"\")\n",
    "print(sale_data.info())\n",
    "print(\"\")\n",
    "print(sale_data.describe())"
   ]
  },
  {
   "cell_type": "code",
   "execution_count": null,
   "id": "a2a2f64d",
   "metadata": {},
   "outputs": [],
   "source": [
    "# checking the missing value\n",
    "print(sale_data.isnull().sum())\n",
    "print(\"\")\n",
    "print(sale_data.isna().sum())"
   ]
  },
  {
   "cell_type": "code",
   "execution_count": null,
   "id": "cea4598a",
   "metadata": {},
   "outputs": [],
   "source": [
    "# duplicate check\n",
    "sale_data=sale_data.drop_duplicates()\n",
    "print(sale_data.info())"
   ]
  },
  {
   "cell_type": "code",
   "execution_count": 35,
   "id": "e8aa70cc",
   "metadata": {},
   "outputs": [
    {
     "name": "stdout",
     "output_type": "stream",
     "text": [
      "         Date Branch Sales Agent Products  Units   Price  Total Sales\n",
      "0  2014-09-01   Woji     Chinedu    Apple      2  125.00       250.00\n",
      "1  2015-06-17   Woji       Emeka    Apple      5  125.00       625.00\n",
      "2  2015-09-10   Woji     Ibrahim   Lenovo      7    1.29         9.03\n",
      "3  2015-11-17   Woji        Tolu       HP     11    4.99        54.89\n",
      "4  2015-10-31   Woji       Tonye   Lenovo     14    1.29        18.06\n",
      "5  2014-02-26   Woji     Ibrahim   Compaq     27   19.99       539.73\n",
      "6  2014-10-05   Woji      George       HP     28    8.99       251.72\n",
      "7  2015-12-21   Woji       Tonye       HP     28    4.99       139.72\n",
      "8  2014-02-09   Woji        Tolu   Lenovo     36    4.99       179.64\n",
      "9  2015-08-07   Woji       Emeka     Dell     42   23.95      1005.90\n",
      "10 2015-01-15   Woji     Ibrahim       HP     46    8.99       413.54\n",
      "11 2014-01-23   Woji       Emeka       HP     50   19.99       999.50\n",
      "12 2015-03-24   Woji        Tolu     Dell     50    4.99       249.50\n",
      "13 2015-05-14   Woji     Ibrahim   Lenovo     53    1.29        68.37\n",
      "14 2015-07-21   Woji      George     Dell     55   12.49       686.95\n",
      "15 2015-04-10   Woji       Tonye   Lenovo     66    1.99       131.34\n",
      "16 2014-12-12   Woji     Chinedu   Lenovo     67    1.29        86.43\n",
      "17 2014-04-18   Woji       Tonye   Lenovo     75    1.99       149.25\n",
      "18 2015-05-31   Woji     Ibrahim       HP     80    8.99       719.20\n",
      "19 2015-02-01   Woji     Chinedu       HP     87   15.00      1305.00\n",
      "20 2014-05-05   Woji        Tolu   Lenovo     90    4.99       449.10\n",
      "21 2014-06-25   Woji      George   Lenovo     90    4.99       449.10\n",
      "22 2015-12-04   Woji        Tolu       HP     94   19.99      1879.06\n",
      "23 2014-11-25   Woji       Emeka     Dell     96    4.99       479.04\n",
      "24 2015-02-18    GRA    Blessing       HP      4    4.99        19.96\n",
      "25 2014-11-08    GRA      Chioma   Compaq     15   19.99       299.85\n",
      "26 2014-09-18    GRA    Blessing     Dell     16   15.99       255.84\n",
      "27 2014-07-12    GRA     Torbari       HP     29    1.99        57.71\n",
      "28 2014-08-15    GRA    Blessing   Lenovo     35    4.99       174.65\n",
      "29 2014-04-01    GRA    Blessing       HP     60    4.99       299.40\n",
      "30 2014-06-08    GRA    Blessing       HP     60    8.99       539.40\n",
      "31 2015-07-04    GRA    Blessing     Dell     62    4.99       309.38\n",
      "32 2014-10-22    GRA    Blessing   Compaq     64    8.99       575.36\n",
      "33 2014-12-29    GRA      Chioma     Dell     74   15.99      1183.26\n",
      "34 2014-07-29    GRA      Chioma       HP     81   19.99      1619.19\n",
      "35 2014-01-06    GRA    Blessing   Lenovo     95    1.99       189.05\n",
      "36 2015-04-27    GRA     Torbari   Compaq     96    4.99       479.04\n",
      "37 2015-08-24   Town        Uche    Apple      3  275.00       825.00\n",
      "38 2015-03-07   Town        Uche       HP      7   19.99       139.93\n",
      "39 2014-05-22   Town       Tunde   Lenovo     32    1.99        63.68\n",
      "40 2014-03-15   Town        Uche   Lenovo     56    2.99       167.44\n",
      "41 2015-10-14   Town       Tunde       HP     57   19.99      1139.43\n",
      "42 2015-09-27   Town        Uche   Compaq     76    1.99       151.24\n"
     ]
    }
   ],
   "source": [
    "# feature engineering\n",
    "\n",
    "# adding column total sale (unit * price)\n",
    "sale_data['Total Sales']=sale_data['Units']* sale_data['Price']\n",
    "print(sale_data)\n"
   ]
  },
  {
   "cell_type": "code",
   "execution_count": null,
   "id": "2bd7d4ce",
   "metadata": {},
   "outputs": [
    {
     "ename": "ValueError",
     "evalue": "Cannot subset columns with a tuple with more than one element. Use a list instead.",
     "output_type": "error",
     "traceback": [
      "\u001b[31m---------------------------------------------------------------------------\u001b[39m",
      "\u001b[31mValueError\u001b[39m                                Traceback (most recent call last)",
      "\u001b[36mCell\u001b[39m\u001b[36m \u001b[39m\u001b[32mIn[36]\u001b[39m\u001b[32m, line 2\u001b[39m\n\u001b[32m      1\u001b[39m \u001b[38;5;66;03m# grouping sales by branch\u001b[39;00m\n\u001b[32m----> \u001b[39m\u001b[32m2\u001b[39m sales_by_branch_agent=\u001b[43msale_data\u001b[49m\u001b[43m.\u001b[49m\u001b[43mgroupby\u001b[49m\u001b[43m(\u001b[49m\u001b[43m[\u001b[49m\u001b[33;43m'\u001b[39;49m\u001b[33;43mBranch\u001b[39;49m\u001b[33;43m'\u001b[39;49m\u001b[43m,\u001b[49m\u001b[33;43m'\u001b[39;49m\u001b[33;43mSales Agent\u001b[39;49m\u001b[33;43m'\u001b[39;49m\u001b[43m]\u001b[49m\u001b[43m)\u001b[49m\u001b[43m[\u001b[49m\u001b[33;43m'\u001b[39;49m\u001b[33;43mUnits\u001b[39;49m\u001b[33;43m'\u001b[39;49m\u001b[43m,\u001b[49m\u001b[33;43m'\u001b[39;49m\u001b[33;43mTotal Sales\u001b[39;49m\u001b[33;43m'\u001b[39;49m\u001b[43m]\u001b[49m.sum().reset_index().sort_values(by=\u001b[33m'\u001b[39m\u001b[33mBranch\u001b[39m\u001b[33m'\u001b[39m,ascending=\u001b[38;5;28;01mTrue\u001b[39;00m)\n\u001b[32m      3\u001b[39m \u001b[38;5;28mprint\u001b[39m(sales_by_branch_agent)\n",
      "\u001b[36mFile \u001b[39m\u001b[32mc:\\Users\\OLASQUARE\\Desktop\\GENAI\\.venv\\Lib\\site-packages\\pandas\\core\\groupby\\generic.py:1947\u001b[39m, in \u001b[36mDataFrameGroupBy.__getitem__\u001b[39m\u001b[34m(self, key)\u001b[39m\n\u001b[32m   1943\u001b[39m \u001b[38;5;66;03m# per GH 23566\u001b[39;00m\n\u001b[32m   1944\u001b[39m \u001b[38;5;28;01mif\u001b[39;00m \u001b[38;5;28misinstance\u001b[39m(key, \u001b[38;5;28mtuple\u001b[39m) \u001b[38;5;129;01mand\u001b[39;00m \u001b[38;5;28mlen\u001b[39m(key) > \u001b[32m1\u001b[39m:\n\u001b[32m   1945\u001b[39m     \u001b[38;5;66;03m# if len == 1, then it becomes a SeriesGroupBy and this is actually\u001b[39;00m\n\u001b[32m   1946\u001b[39m     \u001b[38;5;66;03m# valid syntax, so don't raise\u001b[39;00m\n\u001b[32m-> \u001b[39m\u001b[32m1947\u001b[39m     \u001b[38;5;28;01mraise\u001b[39;00m \u001b[38;5;167;01mValueError\u001b[39;00m(\n\u001b[32m   1948\u001b[39m         \u001b[33m\"\u001b[39m\u001b[33mCannot subset columns with a tuple with more than one element. \u001b[39m\u001b[33m\"\u001b[39m\n\u001b[32m   1949\u001b[39m         \u001b[33m\"\u001b[39m\u001b[33mUse a list instead.\u001b[39m\u001b[33m\"\u001b[39m\n\u001b[32m   1950\u001b[39m     )\n\u001b[32m   1951\u001b[39m \u001b[38;5;28;01mreturn\u001b[39;00m \u001b[38;5;28msuper\u001b[39m().\u001b[34m__getitem__\u001b[39m(key)\n",
      "\u001b[31mValueError\u001b[39m: Cannot subset columns with a tuple with more than one element. Use a list instead."
     ]
    }
   ],
   "source": [
    "# grouping sales by branch\n",
    "sales_by_branch_agent=sale_data.groupby(['Branch','Sales Agent'])[{'Units','Total Sales'}].sum().reset_index().sort_values(by='Branch',ascending=True)\n",
    "print(sales_by_branch_agent)"
   ]
  },
  {
   "cell_type": "markdown",
   "id": "61e0ceca",
   "metadata": {},
   "source": []
  }
 ],
 "metadata": {
  "kernelspec": {
   "display_name": ".venv",
   "language": "python",
   "name": "python3"
  },
  "language_info": {
   "codemirror_mode": {
    "name": "ipython",
    "version": 3
   },
   "file_extension": ".py",
   "mimetype": "text/x-python",
   "name": "python",
   "nbconvert_exporter": "python",
   "pygments_lexer": "ipython3",
   "version": "3.13.7"
  }
 },
 "nbformat": 4,
 "nbformat_minor": 5
}
