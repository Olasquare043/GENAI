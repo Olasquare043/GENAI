{
 "cells": [
  {
   "cell_type": "markdown",
   "id": "c3377057",
   "metadata": {},
   "source": [
    "## Working on our biodata"
   ]
  },
  {
   "cell_type": "code",
   "execution_count": null,
   "id": "905773c0",
   "metadata": {},
   "outputs": [],
   "source": [
    "import pandas as pd\n",
    "\n",
    "# warning\n",
    "import warnings\n",
    "warnings.filterwarnings('ignore')\n",
    "# set views\n",
    "pd.set_option('display.max_column',None)\n",
    "pd.set_option('display.width',1000)\n",
    "\n",
    "# loading the data\n",
    "biodata= pd.read_csv(\"../Dataset/biodata.csv\")\n",
    "biodata"
   ]
  },
  {
   "cell_type": "code",
   "execution_count": null,
   "id": "f56dd7cf",
   "metadata": {},
   "outputs": [],
   "source": [
    "# Data inspectection\n",
    "biodata.info()\n",
    "biodata.describe()\n",
    "biodata.shape\n",
    "biodata.columns"
   ]
  },
  {
   "cell_type": "code",
   "execution_count": null,
   "id": "38491cf2",
   "metadata": {},
   "outputs": [],
   "source": [
    "\n",
    "# Data cleaninig\n",
    "missingNa=biodata.isna().sum()\n",
    "missingEmpty=biodata.isnull().sum()\n",
    "duplica=biodata.duplicated().sum() \n",
    "missingNa\n",
    "missingEmpty\n",
    "duplica\n"
   ]
  },
  {
   "cell_type": "code",
   "execution_count": null,
   "id": "bbb75e61",
   "metadata": {},
   "outputs": [],
   "source": [
    "# Accessing data\n",
    "biodata.at[0,\"First Name\"]"
   ]
  },
  {
   "cell_type": "code",
   "execution_count": null,
   "id": "be2174f2",
   "metadata": {},
   "outputs": [],
   "source": [
    "biodata.columns"
   ]
  },
  {
   "cell_type": "code",
   "execution_count": null,
   "id": "cec83bc4",
   "metadata": {},
   "outputs": [],
   "source": [
    "filtercity= biodata[(biodata[\"City\"]!=\"Abeokuta \")&(biodata[\"Gender\"]==\"Male\")]\n",
    "filtercity"
   ]
  }
 ],
 "metadata": {
  "kernelspec": {
   "display_name": ".venv",
   "language": "python",
   "name": "python3"
  },
  "language_info": {
   "codemirror_mode": {
    "name": "ipython",
    "version": 3
   },
   "file_extension": ".py",
   "mimetype": "text/x-python",
   "name": "python",
   "nbconvert_exporter": "python",
   "pygments_lexer": "ipython3",
   "version": "3.13.7"
  }
 },
 "nbformat": 4,
 "nbformat_minor": 5
}
